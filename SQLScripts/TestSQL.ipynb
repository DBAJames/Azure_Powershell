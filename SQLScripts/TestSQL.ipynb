{ 
    "metadata": {
        "kernelspec": {
            "name": "SQL",
            "display_name": "SQL",
            "language": "sql"
        },
        "language_info": {
            "name": "sql",
            "version": ""
        }
    },
    "nbformat_minor": 2,
    "nbformat": 4,
    "cells": [
        {
            "cell_type": "code",
            "source": [
                "select *\r\n",
                "from mySampleDatabase.SalesLT.Address"
            ],
            "metadata": {
                "azdata_cell_guid": "da48afc4-47aa-428d-8303-1d9301393419",
                "tags": []
            },
            "outputs": [],
            "execution_count": null
        },
        {
            "cell_type": "code",
            "source": [
                "SELECT *\r\n",
                "from sys.tables"
            ],
            "metadata": {
                "azdata_cell_guid": "a76d969e-fa3d-404b-bad6-4676245940bf",
                "tags": []
            },
            "outputs": [],
            "execution_count": null
        },
        {
            "cell_type": "markdown",
            "source": [
                "This selects tables"
            ],
            "metadata": {
                "azdata_cell_guid": "12e1d366-f930-4f28-8c6b-9b92cd537a87"
            }
        }
    ]
}
